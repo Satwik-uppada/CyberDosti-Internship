{
 "cells": [
  {
   "cell_type": "code",
   "execution_count": null,
   "metadata": {},
   "outputs": [],
   "source": [
    "from bardapi import BardCookies\n",
    "import datetime\n",
    "\n",
    "cookie_dict = {\n",
    "    \"__Secure-1PSID\": change with you keys",
    "    \"__Secure-1PSIDTS\": change with you keys,
    "    \"__Secure-1PSIDCC\": change with you keys
    "}\n",
    "bard = BardCookies(cookie_dict=cookie_dict)\n",
    "\n",
    "\n",
    "def split_and_save_paragraphs(data, filename):\n",
    "    paragraphs = data.split('\\n\\n')\n",
    "    with open(filename, 'w') as file:\n",
    "        file.write(data)\n",
    "    data = paragraphs[:2]\n",
    "    separator = ', '\n",
    "    joined_string = separator.join(data)\n",
    "    return joined_string\n",
    "\n",
    "\n",
    "# Main Execution\n",
    "\n",
    "while True:\n",
    "    Question = input(\"Enter The Query : \")\n",
    "    RealQuestion = str(Question)\n",
    "    results = bard.get_answer(RealQuestion)['content']\n",
    "    current_datetime = datetime.datetime.now()\n",
    "    formatted_time = current_datetime.strftime(\"%H%M%S\")\n",
    "    file_name_date = str(formatted_time) + str(\".txt\")\n",
    "    file_name_date = \"C:\\\\Users\\\\uppada satwik\\\\Downloads\\\\Sarah\\\\AI_JARVIS\\\\BRAIN\\\\DataBase\\\\\" + file_name_date\n",
    "    print(split_and_save_paragraphs(results, filename=file_name_date))\n",
    "    print(results)\n"
   ]
  }
 ],
 "metadata": {
  "language_info": {
   "name": "python"
  }
 },
 "nbformat": 4,
 "nbformat_minor": 2
}
